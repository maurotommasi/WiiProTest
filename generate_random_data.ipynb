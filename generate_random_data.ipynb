{
 "cells": [
  {
   "cell_type": "code",
   "execution_count": 1,
   "metadata": {},
   "outputs": [
    {
     "name": "stdout",
     "output_type": "stream",
     "text": [
      "CSV file generated successfully.\n"
     ]
    }
   ],
   "source": [
    "import csv\n",
    "import random\n",
    "from datetime import datetime, timedelta\n",
    "\n",
    "# Around 10 minutes for 10.000 Instruments between 1/1/1991 - 31/12/2014\n",
    "\n",
    "def generate_random_data(start_date, end_date, num_instruments):\n",
    "    data = []\n",
    "\n",
    "    current_date = start_date\n",
    "    while current_date <= end_date:\n",
    "        for i in range(1, num_instruments + 1):\n",
    "            instrument = f'INSTRUMENT{i}'\n",
    "            value = round(random.uniform(1, 10), 4)\n",
    "            data.append([instrument, current_date.strftime('%d-%b-%Y'), value])\n",
    "\n",
    "        current_date += timedelta(days=1)\n",
    "\n",
    "    return data\n",
    "\n",
    "def write_to_csv(filename, data):\n",
    "    with open(filename, 'w', newline='') as csvfile:\n",
    "        csv_writer = csv.writer(csvfile)\n",
    "        # csv_writer.writerow(['INSTRUMENT', 'DATE', 'VALUE'])\n",
    "        csv_writer.writerows(data)\n",
    "\n",
    "start_date = datetime(1990, 1, 1)\n",
    "end_date = datetime(2014, 12, 31)\n",
    "num_instruments = 10000\n",
    "\n",
    "generated_data = generate_random_data(start_date, end_date, num_instruments)\n",
    "write_to_csv('./source/output.csv', generated_data)\n",
    "\n",
    "print(\"CSV file generated successfully.\")\n"
   ]
  }
 ],
 "metadata": {
  "kernelspec": {
   "display_name": ".venv",
   "language": "python",
   "name": "python3"
  },
  "language_info": {
   "codemirror_mode": {
    "name": "ipython",
    "version": 3
   },
   "file_extension": ".py",
   "mimetype": "text/x-python",
   "name": "python",
   "nbconvert_exporter": "python",
   "pygments_lexer": "ipython3",
   "version": "3.10.0"
  }
 },
 "nbformat": 4,
 "nbformat_minor": 2
}
